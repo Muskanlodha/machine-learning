{
 "cells": [
  {
   "cell_type": "code",
   "execution_count": 58,
   "id": "8181ebf2",
   "metadata": {},
   "outputs": [
    {
     "name": "stdout",
     "output_type": "stream",
     "text": [
      "        Test Response  BCA I  BCA II  BCA III  Unnamed: 5  Unnamed: 6   \n",
      "0   Pre-Test      Yes    9.0     8.0      6.0         NaN         NaN  \\\n",
      "1  Post-Test      Yes    4.0     5.0      6.0         NaN         NaN   \n",
      "2   Pre-Test       No   91.0    92.0     94.0         NaN         NaN   \n",
      "3  Post-Test       No   96.0    95.0     94.0         NaN         NaN   \n",
      "4        NaN      NaN    NaN     NaN      NaN         NaN         NaN   \n",
      "\n",
      "   Unnamed: 7  Unnamed: 8  Unnamed: 9  ...  Unnamed: 16  Unnamed: 17   \n",
      "0         NaN         NaN         NaN  ...          NaN          NaN  \\\n",
      "1         NaN         NaN         NaN  ...          NaN          NaN   \n",
      "2         NaN         NaN         NaN  ...          NaN          NaN   \n",
      "3         NaN         NaN         NaN  ...          NaN          NaN   \n",
      "4         NaN         NaN         NaN  ...          NaN          NaN   \n",
      "\n",
      "   Unnamed: 18  Unnamed: 19  Unnamed: 20  Unnamed: 21  Unnamed: 22   \n",
      "0          NaN          NaN          NaN         Test     Response  \\\n",
      "1          NaN          NaN          NaN     Pre-Test          Yes   \n",
      "2          NaN          NaN          NaN          NaN           No   \n",
      "3          NaN          NaN          NaN    Post-Test          Yes   \n",
      "4          NaN          NaN          NaN          NaN           No   \n",
      "\n",
      "   Unnamed: 23  Unnamed: 24  Unnamed: 25  \n",
      "0        BCA I       BCA II      BCA III  \n",
      "1            9            8            6  \n",
      "2           91           95           94  \n",
      "3            4            5            6  \n",
      "4           96           95           94  \n",
      "\n",
      "[5 rows x 26 columns]\n"
     ]
    }
   ],
   "source": [
    "import pandas as pd\n",
    "import numpy as np\n",
    "df=pd.read_csv(\"C:\\\\Users\\\\Windows 10\\\\Documents\\\\DV ASSGINMENT 1 - Muskan Lodha.csv\")\n",
    "print(df)"
   ]
  },
  {
   "cell_type": "code",
   "execution_count": 59,
   "id": "014eb092",
   "metadata": {},
   "outputs": [
    {
     "data": {
      "text/plain": [
       "array([[ 9.,  8.,  6.],\n",
       "       [ 4.,  5.,  6.],\n",
       "       [91., 92., 94.],\n",
       "       [96., 95., 94.],\n",
       "       [nan, nan, nan]])"
      ]
     },
     "execution_count": 59,
     "metadata": {},
     "output_type": "execute_result"
    }
   ],
   "source": [
    "x=df[['BCA I','BCA II','BCA III']].values\n",
    "x"
   ]
  },
  {
   "cell_type": "code",
   "execution_count": 60,
   "id": "50af2417",
   "metadata": {},
   "outputs": [
    {
     "data": {
      "text/plain": [
       "array(['Response', 'Yes', 'No', 'Yes', 'No'], dtype=object)"
      ]
     },
     "execution_count": 60,
     "metadata": {},
     "output_type": "execute_result"
    }
   ],
   "source": [
    "y=df['Unnamed: 22'].values\n",
    "y"
   ]
  },
  {
   "cell_type": "code",
   "execution_count": 61,
   "id": "e5dc6a42",
   "metadata": {},
   "outputs": [],
   "source": [
    "from sklearn.impute import SimpleImputer"
   ]
  },
  {
   "cell_type": "code",
   "execution_count": 62,
   "id": "93f683bb",
   "metadata": {},
   "outputs": [],
   "source": [
    "imputer=SimpleImputer(missing_values=np.NaN,strategy='mean')"
   ]
  },
  {
   "cell_type": "code",
   "execution_count": 63,
   "id": "6b155f25",
   "metadata": {},
   "outputs": [],
   "source": [
    "imputer=imputer.fit(x[1:5])"
   ]
  },
  {
   "cell_type": "code",
   "execution_count": 88,
   "id": "32af6eea",
   "metadata": {},
   "outputs": [],
   "source": [
    "x[1:5]=imputer.transform(x[1:25])"
   ]
  },
  {
   "cell_type": "code",
   "execution_count": 89,
   "id": "63f39093",
   "metadata": {},
   "outputs": [
    {
     "data": {
      "text/plain": [
       "array([[ 9.,  8.,  6.],\n",
       "       [ 4.,  5.,  6.],\n",
       "       [91., 92., 94.],\n",
       "       [96., 95., 94.],\n",
       "       [ 4.,  5.,  6.]])"
      ]
     },
     "execution_count": 89,
     "metadata": {},
     "output_type": "execute_result"
    }
   ],
   "source": [
    "x"
   ]
  },
  {
   "cell_type": "code",
   "execution_count": 90,
   "id": "11874c2b",
   "metadata": {},
   "outputs": [],
   "source": [
    "from sklearn.preprocessing import LabelEncoder"
   ]
  },
  {
   "cell_type": "code",
   "execution_count": 91,
   "id": "f6c04631",
   "metadata": {},
   "outputs": [],
   "source": [
    "label_encoder=LabelEncoder()"
   ]
  },
  {
   "cell_type": "code",
   "execution_count": 92,
   "id": "82b7b38c",
   "metadata": {},
   "outputs": [],
   "source": [
    "y[:0]=label_encoder.fit_transform(y[:0])"
   ]
  },
  {
   "cell_type": "code",
   "execution_count": 93,
   "id": "281d4cff",
   "metadata": {},
   "outputs": [
    {
     "data": {
      "text/plain": [
       "array([0, 1, 0, 'Yes', 'No'], dtype=object)"
      ]
     },
     "execution_count": 93,
     "metadata": {},
     "output_type": "execute_result"
    }
   ],
   "source": [
    "y"
   ]
  },
  {
   "cell_type": "code",
   "execution_count": null,
   "id": "ea64f2a6",
   "metadata": {},
   "outputs": [],
   "source": []
  },
  {
   "cell_type": "code",
   "execution_count": null,
   "id": "9b4571af",
   "metadata": {},
   "outputs": [],
   "source": []
  }
 ],
 "metadata": {
  "kernelspec": {
   "display_name": "Python 3 (ipykernel)",
   "language": "python",
   "name": "python3"
  },
  "language_info": {
   "codemirror_mode": {
    "name": "ipython",
    "version": 3
   },
   "file_extension": ".py",
   "mimetype": "text/x-python",
   "name": "python",
   "nbconvert_exporter": "python",
   "pygments_lexer": "ipython3",
   "version": "3.11.3"
  }
 },
 "nbformat": 4,
 "nbformat_minor": 5
}
